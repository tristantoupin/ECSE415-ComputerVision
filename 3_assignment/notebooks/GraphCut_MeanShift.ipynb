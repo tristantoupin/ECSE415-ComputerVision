{
 "cells": [
  {
   "cell_type": "code",
   "execution_count": 2,
   "metadata": {},
   "outputs": [],
   "source": [
    "import numpy as np\n",
    "from skimage import segmentation, color\n",
    "from skimage.segmentation import quickshift\n",
    "from skimage.future import graph\n",
    "from matplotlib import pyplot as plt\n",
    "import cv2\n",
    "from tqdm import tqdm_notebook as tqdm\n",
    "import math"
   ]
  },
  {
   "cell_type": "code",
   "execution_count": 3,
   "metadata": {},
   "outputs": [],
   "source": [
    "path_img = \"home.jpg\"\n",
    "img = cv2.cvtColor(cv2.imread(path_img), cv2.COLOR_BGR2RGB)"
   ]
  },
  {
   "cell_type": "code",
   "execution_count": 4,
   "metadata": {},
   "outputs": [],
   "source": [
    "def plot_images(list_of_images, max_col = 4):\n",
    "    n = len(list_of_images)\n",
    "    if n == 1:\n",
    "        plt.imshow(list_of_images[0]); plt.axis('off'); plt.show()\n",
    "    else:\n",
    "        # get number of columns and rows required\n",
    "        r, c = 1, n\n",
    "        if n > max_col:\n",
    "            c = max_col\n",
    "            r = int(math.ceil(n/max_col))\n",
    "    \n",
    "        fig = plt.figure(figsize=(17, 17))\n",
    "        for i, (img,name) in enumerate(list_of_images):\n",
    "            ax = fig.add_subplot(r, c, (i+1))\n",
    "            ax.set_title(str(name))\n",
    "            ax.axis('off')\n",
    "            ax.imshow(img)\n"
   ]
  },
  {
   "cell_type": "code",
   "execution_count": null,
   "metadata": {},
   "outputs": [],
   "source": [
    "plot_images([img])"
   ]
  },
  {
   "cell_type": "markdown",
   "metadata": {},
   "source": [
    "# Part A - Normalized Graph-Cut"
   ]
  },
  {
   "cell_type": "code",
   "execution_count": null,
   "metadata": {},
   "outputs": [],
   "source": [
    "def normalized_graph_cut(compactness, n_segments, thresh):\n",
    "    all_img = []\n",
    "\n",
    "    for comp in compactness:\n",
    "        for seg in tqdm(n_segments):\n",
    "            for thr in thresh:\n",
    "                labels = segmentation.slic(img, compactness=comp, n_segments=seg)\n",
    "                g = graph.rag_mean_color(img, labels, mode='similarity')\n",
    "                labels = graph.cut_normalized(labels, g, thr)\n",
    "                result = color.label2rgb(labels, img, kind='avg')\n",
    "                all_img.append((result, (\"comp: \" + str(comp) + \", seg: \" + str(seg) + \",thresh: \" + str(thr))))\n",
    "                \n",
    "    plot_images(all_img)"
   ]
  },
  {
   "cell_type": "code",
   "execution_count": null,
   "metadata": {},
   "outputs": [],
   "source": [
    "compactness = [10, 20]#, 30, 40]\n",
    "n_segments = [100, 250]#, 500, 750]\n",
    "thresh = [0.001, 0.01]#, 0.1, 0.2]\n",
    "\n",
    "normalized_graph_cut(compactness, n_segments, thresh)"
   ]
  },
  {
   "cell_type": "markdown",
   "metadata": {},
   "source": [
    "# Part B - Mean Shift"
   ]
  },
  {
   "cell_type": "code",
   "execution_count": 5,
   "metadata": {},
   "outputs": [],
   "source": [
    "def mean_shift(ratio, k_size, max_dist):\n",
    "    all_img = []\n",
    "\n",
    "    for r in ratio:\n",
    "        for s in tqdm(k_size):\n",
    "            for d in max_dist:\n",
    "                label = quickshift(img, ratio = r, kernel_size = s, max_dist = d)\n",
    "                out = color.label2rgb(label, img, kind='avg')\n",
    "                all_img.append((img, (\"ratio: \" + str(r) + \", kernel_size: \" + str(s) + \", max_dist: \" + str(d))))\n",
    "                \n",
    "    plot_images(all_img)"
   ]
  },
  {
   "cell_type": "code",
   "execution_count": null,
   "metadata": {},
   "outputs": [
    {
     "data": {
      "application/vnd.jupyter.widget-view+json": {
       "model_id": "094d511ae5994959952acb51a2df544b",
       "version_major": 2,
       "version_minor": 0
      },
      "text/html": [
       "<p>Failed to display Jupyter Widget of type <code>HBox</code>.</p>\n",
       "<p>\n",
       "  If you're reading this message in the Jupyter Notebook or JupyterLab Notebook, it may mean\n",
       "  that the widgets JavaScript is still loading. If this message persists, it\n",
       "  likely means that the widgets JavaScript library is either not installed or\n",
       "  not enabled. See the <a href=\"https://ipywidgets.readthedocs.io/en/stable/user_install.html\">Jupyter\n",
       "  Widgets Documentation</a> for setup instructions.\n",
       "</p>\n",
       "<p>\n",
       "  If you're reading this message in another frontend (for example, a static\n",
       "  rendering on GitHub or <a href=\"https://nbviewer.jupyter.org/\">NBViewer</a>),\n",
       "  it may mean that your frontend doesn't currently support widgets.\n",
       "</p>\n"
      ],
      "text/plain": [
       "HBox(children=(IntProgress(value=0, max=2), HTML(value='')))"
      ]
     },
     "metadata": {},
     "output_type": "display_data"
    }
   ],
   "source": [
    "ratio = [0.25, 0.5]#, 30, 40]\n",
    "k_size = [100, 250]#, 500, 750]\n",
    "max_dist = [0.001]#, 0.01, 0.1, 0.2]\n",
    "\n",
    "mean_shift(ratio, k_size, max_dist)"
   ]
  },
  {
   "cell_type": "code",
   "execution_count": null,
   "metadata": {},
   "outputs": [],
   "source": [
    "r, s, d = 0.5, 3, 6\n",
    "\n",
    "label = quickshift(img, ratio = r, kernel_size = s, max_dist = d)\n",
    "out = color.label2rgb(label, img, kind='avg')\n",
    "all_img.append((img, (\"ratio: \" + str(r) + \", kernel_size: \" + str(s) + \", max_dist: \" + str(d))))"
   ]
  },
  {
   "cell_type": "code",
   "execution_count": null,
   "metadata": {},
   "outputs": [],
   "source": []
  }
 ],
 "metadata": {
  "kernelspec": {
   "display_name": "Python 3",
   "language": "python",
   "name": "python3"
  },
  "language_info": {
   "codemirror_mode": {
    "name": "ipython",
    "version": 3
   },
   "file_extension": ".py",
   "mimetype": "text/x-python",
   "name": "python",
   "nbconvert_exporter": "python",
   "pygments_lexer": "ipython3",
   "version": "3.6.2"
  }
 },
 "nbformat": 4,
 "nbformat_minor": 2
}
